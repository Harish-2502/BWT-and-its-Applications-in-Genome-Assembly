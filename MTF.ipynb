{
 "cells": [
  {
   "cell_type": "markdown",
   "metadata": {},
   "source": [
    "MOVE TO FRONT TRANSFORM (MTF)"
   ]
  },
  {
   "cell_type": "code",
   "execution_count": 3,
   "metadata": {},
   "outputs": [],
   "source": [
    "# The move-to-front (MTF) transform is an encoding of data (typically a stream of bytes) designed to improve the performance of entropy encoding techniques of compression. When efficiently implemented, it is fast enough that its benefits usually justify including it as an extra step in data compression algorithm."
   ]
  },
  {
   "cell_type": "code",
   "execution_count": 7,
   "metadata": {},
   "outputs": [],
   "source": [
    "cmn_dict = list(range(256))# Here we use the 256 possible values of a byte:\n",
    "def encode(string):\n",
    "    string = string.encode('utf-8') # Change to bytes for 256.\n",
    "    dict = cmn_dict.copy()\n",
    "\n",
    "    # Transformation\n",
    "    comp_txt = list()    #represents list of compressed data in bytes\n",
    "    rank = 0\n",
    "\n",
    "    # Read in each character\n",
    "    for i in string:\n",
    "        rank = dict.index(i)    # Find the rank of the character in the dictionary \n",
    "        comp_txt.append(rank)  # Update the encoded text\n",
    "\n",
    "        # Update the dictionary\n",
    "        dict.pop(rank)#To Update the dictionary\n",
    "        dict.insert(0, i)\n",
    "\n",
    "    return comp_txt  "
   ]
  },
  {
   "cell_type": "code",
   "execution_count": 8,
   "metadata": {},
   "outputs": [
    {
     "name": "stdout",
     "output_type": "stream",
     "text": [
      "[105, 112, 115, 0, 111, 40, 3, 4, 4, 0, 1, 0]\n"
     ]
    }
   ],
   "source": [
    "X = encode(\"ipssm$pissii\")\n",
    "print(X)"
   ]
  },
  {
   "cell_type": "code",
   "execution_count": 3,
   "metadata": {},
   "outputs": [],
   "source": [
    "def decode(comp_data):\n",
    "    comp_txt = comp_data\n",
    "    dict = cmn_dict.copy()\n",
    "    decoded_str = [] \n",
    "\n",
    "    # Read in each rank in the encoded text\n",
    "    for j in comp_txt:\n",
    "        Read the character of that rank from the dictionary\n",
    "        decoded_str.append(dict[j])\n",
    "\n",
    "        # Update the dictionary\n",
    "        e = dict.pop(j)\n",
    "        dict.insert(0, e)\n",
    "\n",
    "    return bytes(decoded_str).decode('utf-8')  # Return original string"
   ]
  },
  {
   "cell_type": "code",
   "execution_count": 4,
   "metadata": {},
   "outputs": [
    {
     "name": "stdout",
     "output_type": "stream",
     "text": [
      "ipssm$pissii\n"
     ]
    }
   ],
   "source": [
    "print(decode(X))"
   ]
  }
 ],
 "metadata": {
  "kernelspec": {
   "display_name": "Python 3",
   "language": "python",
   "name": "python3"
  },
  "language_info": {
   "codemirror_mode": {
    "name": "ipython",
    "version": 3
   },
   "file_extension": ".py",
   "mimetype": "text/x-python",
   "name": "python",
   "nbconvert_exporter": "python",
   "pygments_lexer": "ipython3",
   "version": "3.8.8"
  }
 },
 "nbformat": 4,
 "nbformat_minor": 2
}
